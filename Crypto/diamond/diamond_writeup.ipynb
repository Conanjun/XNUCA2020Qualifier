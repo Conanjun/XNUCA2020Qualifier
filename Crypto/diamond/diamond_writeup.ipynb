{
 "cells": [
  {
   "cell_type": "markdown",
   "metadata": {},
   "source": [
    "This challenge implements an instantiation based on LWE where the error in discrete Gaussian distribution(see [[1]](#1), [[2]](#2)), a Search-LWE problem can be written as:\n",
    "\n",
    "$$\\mathbf{A}\\cdot \\mathbf{s} + \\mathbf{e}\\equiv \\mathbf{b}\\pmod q$$\n",
    "\n",
    "where $\\mathbf{A} \\in \\mathbb{Z}^{n\\times m}_q$, $\\mathbf{s} \\in \\mathbb{Z}^{n}_q$ and $\\mathbf{e} \\in \\mathbb{Z}^{m}_q$, our goal is to find $\\mathbf{s}$ given $(\\mathbf{A}, \\mathbf{b})$, but in this challenge both $\\mathbf{A}$ and $\\mathbf{b}$ are masked by some random vectors or matrix, we must solve some lattice-based problems to recover them at first.\n",
    "\n",
    "For $\\mathbf{b}$, the main problem is:\n",
    "\n",
    "$$\\mathbf{T}\\cdot \\mathbf{b} = \\mathbf{R}, \\mathbf{T}\\in \\mathbb{Z}^{1\\times 64}_{2^{1024}}, \\mathbf{b}\\in \\mathbb{Z}^{64\\times 1}_{1000}$$\n",
    "\n",
    "We need to recover $\\mathbf{b}$ given $\\mathbf{T}$ and $\\mathbf{R}$, we can regard this problem as a knapsack-like problem, since the value of the elements in $\\mathbf{b}$ is much smaller than in $\\mathbf{T}$, it can be done easily using LLL-reduction:"
   ]
  },
  {
   "cell_type": "code",
   "execution_count": 1,
   "metadata": {},
   "outputs": [
    {
     "data": {
      "text/plain": [
       "True"
      ]
     },
     "execution_count": 1,
     "metadata": {},
     "output_type": "execute_result"
    }
   ],
   "source": [
    "T = Matrix([randint(1, 2^1024) for _ in range(64)])\n",
    "b = vector([randint(1, 1000) for _ in range(64)])\n",
    "R = T * b\n",
    "\n",
    "res = T.transpose().stack(R).transpose().right_kernel_matrix()\n",
    "res = res.LLL()\n",
    "b == vector(map(abs, res[0][:-1]))"
   ]
  },
  {
   "cell_type": "markdown",
   "metadata": {},
   "source": [
    "For $\\mathbf{A}$, the main problem is:\n",
    "\n",
    "$$\\mathbf{A}\\cdot \\mathbf{T} = \\mathbf{R}, \\mathbf{A}\\in \\mathbb{Z}^{320\\times 5}_{1000}, \\mathbf{T}\\in \\mathbb{Z}^{5\\times 7}_{2^{1024}}$$\n",
    "\n",
    "We need to recover $\\mathbf{A}$ only given $\\mathbf{R}$, this situation becomes a bit more complicated since this time we only know the product of two unknown matrix, though it may seem impossible, we can recover it since the value of the elements in $\\mathbf{A}$ is much smaller than in $\\mathbf{T}$, noticed that each row vector in $\\mathbf{T}^\\top$ is a linear combination of all row vectors in $\\mathbf{A}^\\top$, we can perform LLL-reduction on $\\mathbf{T}$, then check whether there is a vector in the linear combination of the obtained vectors whose values of all elements fall in the interval of $[10, 1000]$, if it exists, we mark it as a candidate vector, after finding five candidates we only need to enumerate in its full permutation:"
   ]
  },
  {
   "cell_type": "code",
   "execution_count": 2,
   "metadata": {},
   "outputs": [
    {
     "data": {
      "text/plain": [
       "True"
      ]
     },
     "execution_count": 2,
     "metadata": {},
     "output_type": "execute_result"
    }
   ],
   "source": [
    "import itertools\n",
    "\n",
    "def check(l):\n",
    "    return sum([i>=10 and i<=1000 for i in l]) == 320 or sum([-i>=10 and -i<=1000 for i in l]) == 320\n",
    "\n",
    "def get_A(res, idx_list, op_list):\n",
    "    A_cols = []\n",
    "    for a, b, c, d, e in idx_list:\n",
    "        for op in op_list:\n",
    "            v = res[a]*op[0] + res[b]*op[1] + res[c]*op[2] + res[d]*op[3] + res[e]*op[4]\n",
    "            if check(v) and (v not in A_cols) and (-v not in A_cols):\n",
    "                A_cols.append(v)\n",
    "            if len(A_cols) == 5:\n",
    "                return A_cols\n",
    "\n",
    "A = random_matrix(ZZ, 320, 5, x = 10, y = 1000)\n",
    "R = Matrix(A * vector([randint(1, 2^1024) for _ in range(5)]) for _ in range(7))\n",
    "\n",
    "res = R.LLL()\n",
    "\n",
    "idx_list = list(cartesian_product([[2, 3, 4, 5, 6] for _ in range(5)]))\n",
    "op_list = list(cartesian_product([[-1, 0, 1] for _ in range(5)]))\n",
    "\n",
    "ans = get_A(res, idx_list, op_list)\n",
    "ans = [i if i>0 else -i for i in ans]\n",
    "\n",
    "possible_A  = list(map(Matrix, list(itertools.permutations(ans))))\n",
    "possible_A  = [i.transpose() for i in possible_A]\n",
    "A in possible_A"
   ]
  },
  {
   "cell_type": "markdown",
   "metadata": {},
   "source": [
    "Now the only thing left is to solve a Search-LWE problem, LWE is as hard as classical lattice problems, such as the SIVP, in the worst case. But in practice, there exist many attacks for LWE in different model(see [[3]](#3), Section 3.3;[[4]](#4), Section 4). In this challenge, the security parameter $n$ are suitably small, we can convert the LWE problem to a CVP problem and applied LLL or BKZ lattice basis reduction:"
   ]
  },
  {
   "cell_type": "code",
   "execution_count": 3,
   "metadata": {},
   "outputs": [
    {
     "data": {
      "text/plain": [
       "True"
      ]
     },
     "execution_count": 3,
     "metadata": {},
     "output_type": "execute_result"
    }
   ],
   "source": [
    "from sage.crypto.lwe import LWE\n",
    "from sage.stats.distributions.discrete_gaussian_integer import DiscreteGaussianDistributionIntegerSampler as DGDIS\n",
    "\n",
    "L = LWE(n = 25, q = 1000, D = DGDIS(3))\n",
    "S = [L() for _ in range(64)]\n",
    "A = matrix([x for x, _ in S])\n",
    "b = vector(ZZ, [y for _, y in S])\n",
    "\n",
    "basis = A.transpose().change_ring(ZZ).stack(1000 * identity_matrix(64)).hermite_form()[:64]\n",
    "res = block_matrix([[matrix(ZZ,1,1,[3]), matrix(b)], [matrix(ZZ, 64, 1, [0] * 64), basis]])\n",
    "\n",
    "res = res.LLL()\n",
    "e = res[0][1:]\n",
    "s = A \\ (b - e)\n",
    "\n",
    "s == L._LWE__s"
   ]
  },
  {
   "cell_type": "markdown",
   "metadata": {},
   "source": [
    "Here is my final solver:"
   ]
  },
  {
   "cell_type": "code",
   "execution_count": 4,
   "metadata": {},
   "outputs": [
    {
     "name": "stdout",
     "output_type": "stream",
     "text": [
      "b'X-NUCA{Wh4t_Tru1y_i5_l0giC?_Wh0_d3c1des_re4soN_12e8h8vbd82t4e6q}'\n"
     ]
    }
   ],
   "source": [
    "import itertools\n",
    "from Crypto.Cipher import AES\n",
    "from Crypto.Util.number import *\n",
    "from hashlib import sha256\n",
    "\n",
    "def check(l):\n",
    "    return sum([i>=10 and i<=1000 for i in l]) == 320 or sum([-i>=10 and -i<=1000 for i in l]) == 320\n",
    "                                    \n",
    "def get_A(res, idx_list, op_list):\n",
    "    A_cols = []\n",
    "    for a, b, c, d, e in idx_list:\n",
    "        for op in op_list:\n",
    "            v = res[a]*op[0] + res[b]*op[1] + res[c]*op[2] + res[d]*op[3] + res[e]*op[4]\n",
    "            if check(v) and (v not in A_cols) and (-v not in A_cols):\n",
    "                A_cols.append(v)\n",
    "            if len(A_cols) == 5:\n",
    "                return A_cols\n",
    "\n",
    "def get_s(A, b):\n",
    "    basis = A.transpose().change_ring(ZZ).stack(1000 * identity_matrix(64)).hermite_form()[:64]\n",
    "    res = block_matrix([[matrix(ZZ, 1, 1, [3]), matrix(b)], [matrix(ZZ, 64, 1, [0] * 64), basis]])\n",
    "    res = res.LLL(beta = 25)\n",
    "    e = res[0][1:]\n",
    "    try:\n",
    "        s = A \\ (b - e)\n",
    "        return s\n",
    "    except:\n",
    "        return None\n",
    "\n",
    "f = open(\"output.txt\").read()\n",
    "data = f.split('\\n')\n",
    "\n",
    "B = Matrix(ZZ, 7, 320, list(map(int, data[0].replace('[', '').replace(']', '').split(', '))))\n",
    "J = Matrix(ZZ, 64, 25, list(map(int, data[1].replace('[', '').replace(']', '').split(', '))))\n",
    "R = Matrix(ZZ, 65, 1, list(map(int, data[2].replace('[', '').replace(']', '').split(', '))))\n",
    "iv = long_to_bytes(int(data[3], 16))[:16]\n",
    "ct = long_to_bytes(int(data[3], 16))[16:]\n",
    "\n",
    "res = B.LLL()\n",
    "idx_list = list(cartesian_product([[2, 3, 4, 5, 6] for _ in range(5)]))\n",
    "op_list = list(cartesian_product([[-1, 0, 1] for _ in range(5)]))\n",
    "ans = get_A(res, idx_list, op_list)\n",
    "ans = [i if i>0 else -i for i in ans]\n",
    "possible_A  = list(map(Matrix, list(itertools.permutations(ans))))\n",
    "possible_A  = [i.transpose() for i in possible_A]\n",
    "\n",
    "T = R[:-1].transpose()\n",
    "V = R[-1]\n",
    "k = T.transpose().stack(V).transpose()\n",
    "kk = k.right_kernel_matrix()\n",
    "kkk = kk.LLL()\n",
    "b = kkk[0][:-1]\n",
    "\n",
    "for A in possible_A:\n",
    "    try:\n",
    "        AA = Matrix(Zmod(1000), 64, 25, [int(i).__xor__(int(j)) for i,j in zip(A.list(), J.list())])\n",
    "        res = get_s(AA, b)\n",
    "        key = sha256(''.join(list(map(str, res))).encode()).digest()\n",
    "        cipher = AES.new(key, AES.MODE_CBC, iv)\n",
    "        pt = cipher.decrypt(ct)\n",
    "        if pt.startswith(b\"X-NUCA{\"):\n",
    "            print(pt)\n",
    "            break\n",
    "    except:\n",
    "        continue"
   ]
  },
  {
   "cell_type": "markdown",
   "metadata": {},
   "source": [
    "**P.S.**\n",
    "\n",
    "* In order to increase the probability of success in some cases, we can also expand the scope of the solution space by adopting dimensionality reduction.\n",
    "\n",
    "* The content of the FLAG is a quote from movie *A Beautiful Mind* \"I've always believed in numbers and the equations and logics that lead to reason. But after a lifetime of such pursuits, I ask, 'What truly is logic? Who decides reason?'\"\n",
    "\n",
    "**Reference**\n",
    "\n",
    "<a id=\"1\" href = \"https://cims.nyu.edu/~regev/papers/qcrypto.pdf\"> [1] Regev, Oded. \"On lattices, learning with errors, random linear codes, and cryptography.\" Journal of the ACM (JACM) 56.6 (2009): 1-40.</a>\n",
    "\n",
    "<a id=\"2\" href = \"https://cims.nyu.edu/~regev/papers/lwesurvey.pdf\"> [2] Regev, Oded. \"The learning with errors problem.\" Invited survey in CCC 7 (2010): 30.</a>\n",
    "\n",
    "<a id = \"3\" href = \"https://www.esat.kuleuven.be/cosic/publications/thesis-267.pdf\"> [3] De Meyer, Lauren. \"Security of LWE-based cryptosystems.\" </a>\n",
    "\n",
    "<a id = \"4\" href = \"https://eprint.iacr.org/2013/839.pdf\">[4] Bai, Shi, and Steven D. Galbraith. \"Lattice decoding attacks on binary LWE.\" Australasian Conference on Information Security and Privacy. Springer, Cham, 2014.</a>"
   ]
  }
 ],
 "metadata": {
  "kernelspec": {
   "display_name": "SageMath 9.0",
   "language": "sage",
   "name": "sagemath"
  },
  "language_info": {
   "codemirror_mode": {
    "name": "ipython",
    "version": 3
   },
   "file_extension": ".py",
   "mimetype": "text/x-python",
   "name": "python",
   "nbconvert_exporter": "python",
   "pygments_lexer": "ipython3",
   "version": "3.7.3"
  }
 },
 "nbformat": 4,
 "nbformat_minor": 4
}
