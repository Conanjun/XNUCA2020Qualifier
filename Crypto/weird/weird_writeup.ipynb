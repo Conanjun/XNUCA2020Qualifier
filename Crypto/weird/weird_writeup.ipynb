{
 "cells": [
  {
   "cell_type": "markdown",
   "metadata": {},
   "source": [
    "This challenge implements a KMOV cryptosystem based on twisted Edwards curve (see [[1]](#1)), the vulnerablity comes from the generation of the public exponent $e$ parameter, here $e$ satisfies the equation:\n",
    "\n",
    "$$ex+(p + 1)(q + 1)y = z$$\n",
    "\n",
    "where $x$, $y$ and $z$ satisfy:\n",
    "\n",
    "$$xy < \\frac{\\sqrt{2N}}{12} \\quad {\\rm and} \\quad \\left|z \\right| < \\frac{(p - q)N^{0.21}y}{3(p + q)}$$\n",
    "\n",
    "In this case, we can use Diophantine approximations to find $x$ and $y$ among the convergents of the continued fraction expansion of $\\frac{e}{N}$ (see [[2]](#2), Theorem 1, 2), after finding $x$ and $y$, we can get an approximation $\\tilde{p}$ of $p$ satisfying $|p - \\tilde{p}| < N^{0.21}$, which leads to the factorization of $N$ by using Coppersmith's method for finding small roots of modular polynomial equations (see [[2]](#2), Theorem 4).\n",
    "\n",
    "After that, we can get the private key of this challenge, the only thing left is to figure out that the encryption process is just computing a scalar multiplication on a twisted Edwards curve, since we have already got the private key, we can just use it to decrypt the ciphertext, however, the method used here to compute scalar multiplication is through repeated addition, this is a fully exponential approach and it runs too slow, so that we can simply use the double-and-add algorithm to speed up this process.\n",
    "\n",
    "Here is my final solver:"
   ]
  },
  {
   "cell_type": "code",
   "execution_count": 1,
   "metadata": {},
   "outputs": [
    {
     "name": "stdout",
     "output_type": "stream",
     "text": [
      "b'X-NUCA{Youve_Forg0tt3n_th3_t4ste_0f_Rea1_h0ney_6f36940f714710af}'\n"
     ]
    }
   ],
   "source": [
    "#!/usr/bin/env sage\n",
    "\n",
    "def on_curve(C, P):\n",
    "    a, d, p = C\n",
    "    x, y = P\n",
    "    return (a*x**2 + y**2 - d*x**2*y**2) % p == 1\n",
    "\n",
    "def point_add(C, P, Q):\n",
    "    a, d, p = C\n",
    "    x1, y1 = P\n",
    "    x2, y2 = Q\n",
    "    assert on_curve(C, P) and on_curve(C, Q)\n",
    "    x3 = (x1 * y2 + y1 * x2) * inverse_mod(1 + d * x1 * x2 * y1 * y2, p) % p\n",
    "    y3 = (y1 * y2 - a * x1 * x2) * inverse_mod(1 - d * x1 * x2 * y1 * y2, p) % p\n",
    "    return (int(x3), int(y3))\n",
    "\n",
    "def point_mul(C, P, s):\n",
    "    Q = (0, 1)\n",
    "    while s > 0:\n",
    "        if s % 2 == 1:\n",
    "            Q = point_add(C, Q, P)\n",
    "        P = point_add(C, P, P)\n",
    "        s //= 2\n",
    "    return Q\n",
    "\n",
    "bits = 1024\n",
    "\n",
    "'''\n",
    "f = open('output.txt', 'rb').read()\n",
    "data = f.replace(b'(', b'').replace(b')', b'').split(b'\\n')\n",
    "\n",
    "e, N = tuple(map(int, data[0].split(b', ')))\n",
    "ct = tuple(map(int, data[1].split(b', ')))\n",
    "'''\n",
    "\n",
    "e, N = (288969517294013178236187423377607850772706067194956328319540958788120421760563745859661120809993097599452236235703456953461446476016483100948287481999230043898368061651387268308645842547879026821842863879967704742559469599469159759360184157244907772315674219466971226019794131421405331578417729612598931842872757269134756215101980595515566901217084629217607502582265295755863799167702741408881294579819035951888562668951997777236828957162036234849207438819692480197365737237130918496390340939168630111890207700776894851839829623749822549994705192645373973493114436603297829506747411555800330860323339168875710029679, 6321130275268755691320586594611921079666212146561948694592313061609721619539590734495630218941969050343046016393977582794839173726817429324685098585960482266998399162720208269336303520478867387042992449850962809825380612709067651432344409349798118550026702892042869238047094344883994914342037831757447770321791092478847580639207346027164495372017699282907858775577530313354865815011726710796887715414931577176850854690237886239119894136091932619828539390021389626283175740389396541552356118540397518601098858527880603493380691706649684470530670258670128352699647582718206243920566184954440517665446820063779925391893)\n",
    "ct = (5899152272551058285195694254667877221970753694584926104666866605696215068207480540407327508300257676391022109169902014292744666257465490629821382573289737174334198164333033128913955350103258256280828114875165476209826215601196920761915628274301746678705023551051091500407363159529055081261677043206130866838451325794109635288399010815200512702451748093168790121961904783034526572263126354004237323724559882241164587153748688219172626902108911587291552030335170336301818195688699255375043513696525422124055880380071075595317183172843771015029292369558240259547938684717895057447152729328016698107789678823563841271755, 253027286530960212859400305369275200777004645361154014614791278682230897619117833798134983197915876185668102195590667437488411251835330785944874517235915807926715611143830896296709467978143690346677123639363900536537534596995622179904587739684155397043547262126131676366948937690378306959846311626889534352806134472610026603322329394769864728875293696851590640974817297099985799243285824842399573006841275494668451690794643886677303573329060084436896592291515021246248961538322485059619863786362159459122242131918702862396595818404578595841492379025543989260901540257216728185425462070297720884398220421012139424567)\n",
    "\n",
    "res = [(i.denom(), i.numer()) for i in continued_fraction(e / N).convergents()]\n",
    "\n",
    "P.<pp> = PolynomialRing(Zmod(N))\n",
    "\n",
    "for x, y in res:\n",
    "    if Integer(y).nbits() in range(bits // 2 - 8, bits // 2) and Integer(x).nbits() in range(bits // 2 - 8, bits // 2):\n",
    "        U = (e * x // y) - N - 1\n",
    "        V = int(sqrt(abs(U**2 - 4 * N)))\n",
    "        p_0 = (U+V) // 2\n",
    "        f = ((p_0 << 576) >> 576) + pp\n",
    "        r = f.small_roots(X = 2**(bits - 576), beta = 0.4)\n",
    "        if r != []:\n",
    "            p = int(p_0 + r[0])\n",
    "            if (N % p == 0) and is_prime(p):\n",
    "                break\n",
    "\n",
    "q = N // p\n",
    "k = inverse_mod(e, (p + 1) * (q + 1))\n",
    "\n",
    "d = (((ct[1])**2 - 1) * inverse_mod(((ct[1])**2 + 1) * (ct[0])**2, N)) % N\n",
    "pt = point_mul((-d, d, N), ct, k)\n",
    "flag = pt[0].to_bytes(32, 'big') + pt[1].to_bytes(32, 'big')\n",
    "print(flag)"
   ]
  },
  {
   "cell_type": "markdown",
   "metadata": {},
   "source": [
    "**P.S.**\n",
    "\n",
    "* According to ([[2]](#2), Theorem 3), suppose we know an approximation $\\tilde{p}$ of $p$ with $|p - \\tilde{p}| < N^{0.25}$, then $N$ can be factored in polynomial time, this means for a 2048-bit $N$, given 512 high order bits of $p$ is encough to factorize $N$, but in practice, if you want to use `.small_roots()` method in SageMath to get the result, usually you need 576 bits known to get the result quickly, you can also reduce the number of bits required by reducing the value of the `epsilon` parameter in `.small_roots()` (e.g., 540 bits known with `epsilon = 0.02` and 530 bits with `epsilon = 0.01` worked well), but it will cost more time.\n",
    "\n",
    "* Also, some new improved attacks on the KMOV cryptosystem have been proposed, these attacks work when the private key is suitably small and the new results improve the former attacks on the KMOV cryptosystem, see ([[3]](#3), Section 3, 4).\n",
    "\n",
    "* The content of the FLAG is a quote from movie *Scent of a Woman* \"You're so wrapped up in sugar, you've forgotten the taste of real honey!\"\n",
    "\n",
    "**References**\n",
    "\n",
    "<a id=\"1\" href=\"https://eprint.iacr.org/2019/1051.pdf\">[1] Boudabra, M., Nitaj, A. A new public key cryptosystem based on Edwards curves. J. Appl. Math. Comput. 61, 431–450 (2019).</a>\n",
    "\n",
    "<a id=\"2\" href=\"https://eprint.iacr.org/2011/427.pdf\">[2] A. Nitaj, A new attack on the KMOV cryptosystem, Bulletin of the Korean Math- ematical Society 51 (5), 1347–1356, 2014.</a>\n",
    "\n",
    "<a id=\"3\" href=\"https://eprint.iacr.org/2019/1052.pdf\">[3] Nitaj, Abderrahmane, Willy Susilo, and Joseph Tonien. \"Improved Cryptanalysis of the KMOV Elliptic Curve Cryptosystem.\" International Conference on Provable Security. Springer, Cham, 2019.</a>"
   ]
  }
 ],
 "metadata": {
  "kernelspec": {
   "display_name": "SageMath 9.0",
   "language": "sage",
   "name": "sagemath"
  },
  "language_info": {
   "codemirror_mode": {
    "name": "ipython",
    "version": 3
   },
   "file_extension": ".py",
   "mimetype": "text/x-python",
   "name": "python",
   "nbconvert_exporter": "python",
   "pygments_lexer": "ipython3",
   "version": "3.7.3"
  }
 },
 "nbformat": 4,
 "nbformat_minor": 4
}
